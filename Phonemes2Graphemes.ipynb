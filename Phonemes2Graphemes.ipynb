{
 "cells": [
  {
   "cell_type": "markdown",
   "metadata": {},
   "source": [
    "# Extend Word2Vec Model with Phonemes \n",
    "\n"
   ]
  },
  {
   "cell_type": "code",
   "execution_count": 1,
   "metadata": {
    "collapsed": true
   },
   "outputs": [],
   "source": [
    "import math\n",
    "import random\n",
    "import sys\n",
    "import os"
   ]
  },
  {
   "cell_type": "code",
   "execution_count": 2,
   "metadata": {
    "collapsed": true
   },
   "outputs": [],
   "source": [
    "# sys.path.append(...) # in case we want to add something else "
   ]
  },
  {
   "cell_type": "code",
   "execution_count": 4,
   "metadata": {
    "collapsed": true
   },
   "outputs": [],
   "source": [
    "from phonemes_from_graphemes import *"
   ]
  },
  {
   "cell_type": "code",
   "execution_count": 5,
   "metadata": {
    "collapsed": true
   },
   "outputs": [],
   "source": [
    "import importlib\n",
    "importlib.reload(phonemes_from_graphemes)\n",
    "from phonemes_from_graphemes import *"
   ]
  },
  {
   "cell_type": "code",
   "execution_count": 9,
   "metadata": {
    "collapsed": true
   },
   "outputs": [],
   "source": [
    "data_dir = \"./data\""
   ]
  },
  {
   "cell_type": "code",
   "execution_count": 6,
   "metadata": {
    "collapsed": false
   },
   "outputs": [
    {
     "name": "stderr",
     "output_type": "stream",
     "text": [
      "2017-06-06 15:51:06,166 - luis_logger - INFO - Loading model from ./data/GoogleNews-vectors-negative300.bin.gz...\n"
     ]
    },
    {
     "name": "stdout",
     "output_type": "stream",
     "text": [
      "Logger created\n"
     ]
    },
    {
     "name": "stderr",
     "output_type": "stream",
     "text": [
      "2017-06-06 15:53:20,943 - luis_logger - INFO - Model succesfully loaded\n",
      "2017-06-06 15:53:20,944 - luis_logger - INFO - Sort all the words in the model, so that we can auto-complete queries quickly...\n"
     ]
    }
   ],
   "source": [
    "#  change 'None' to 'm' to reload \n",
    "mw = ModelWrapper(data_dir=data_dir, m= None, logger_name = \"luis_logger\")"
   ]
  },
  {
   "cell_type": "code",
   "execution_count": 7,
   "metadata": {
    "collapsed": true
   },
   "outputs": [],
   "source": [
    "m = mw.model # cache model definition "
   ]
  },
  {
   "cell_type": "code",
   "execution_count": 19,
   "metadata": {
    "collapsed": false
   },
   "outputs": [
    {
     "data": {
      "text/plain": [
       "<module 'phonemes_from_graphemes' from '/Users/luisd/dev/fakenews/fnc-1/utils/doc2vec/phonemes_from_graphemes.py'>"
      ]
     },
     "execution_count": 19,
     "metadata": {},
     "output_type": "execute_result"
    }
   ],
   "source": []
  },
  {
   "cell_type": "code",
   "execution_count": 8,
   "metadata": {
    "collapsed": false
   },
   "outputs": [
    {
     "name": "stdout",
     "output_type": "stream",
     "text": [
      "Logger retrieved\n"
     ]
    }
   ],
   "source": [
    "pg = PhonemesFromGraphemes(logger_name=mw.alogger.name)"
   ]
  },
  {
   "cell_type": "markdown",
   "metadata": {},
   "source": [
    "### Helper function to generate sounds from Word2Vec model "
   ]
  },
  {
   "cell_type": "code",
   "execution_count": 53,
   "metadata": {
    "collapsed": true
   },
   "outputs": [],
   "source": [
    "def generate_from_word2vec(pg, start, n, fn = None):\n",
    "    # start = 2000000; n = 500000; shelf_filename = \"shelf_from{}_for{}.shelf\".format(start, n)\n",
    "    if fn is None:\n",
    "        shelf_filename = \"shelf_from{}_for{}.shelf\".format(start, n)\n",
    "    else:\n",
    "        shelf_filename = fn\n",
    "    pg.alogger.setLevel(logging.INFO)\n",
    "    pg.graphemes_to_phonemes_to_shelves(words_in_sent=mw.model.index2word[start:start + n], shelf_filename=shelf_filename)"
   ]
  },
  {
   "cell_type": "markdown",
   "metadata": {},
   "source": [
    "### Let's read the sounds' dictionary"
   ]
  },
  {
   "cell_type": "code",
   "execution_count": 10,
   "metadata": {
    "collapsed": false
   },
   "outputs": [],
   "source": [
    "shelves_names = list(map(\n",
    "    lambda fn: '{}/'.format(data_dir) + fn, \n",
    "                     ['shelf_from0_for500000.shelf', 'shelf_from500001_for500000.shelf', 'shelf_from1000001_for500000.shelf', 'shelf_from1500001_for500000.shelf', 'shelf_from2000001_for500000.shelf', 'shelf_from2500000_for500000.shelf']\n",
    "                        )\n",
    "                    )"
   ]
  },
  {
   "cell_type": "code",
   "execution_count": 12,
   "metadata": {
    "collapsed": false
   },
   "outputs": [
    {
     "data": {
      "text/plain": [
       "['./data/shelf_from0_for500000.shelf',\n",
       " './data/shelf_from500001_for500000.shelf',\n",
       " './data/shelf_from1000001_for500000.shelf',\n",
       " './data/shelf_from1500001_for500000.shelf',\n",
       " './data/shelf_from2000001_for500000.shelf',\n",
       " './data/shelf_from2500000_for500000.shelf']"
      ]
     },
     "execution_count": 12,
     "metadata": {},
     "output_type": "execute_result"
    }
   ],
   "source": [
    "shelves_names"
   ]
  },
  {
   "cell_type": "code",
   "execution_count": 13,
   "metadata": {
    "collapsed": false
   },
   "outputs": [
    {
     "name": "stdout",
     "output_type": "stream",
     "text": [
      "Logger retrieved\n"
     ]
    }
   ],
   "source": [
    "sounds_dict = SoundsDict(file_names=shelves_names, logger_name=pg.alogger.name)"
   ]
  },
  {
   "cell_type": "code",
   "execution_count": 14,
   "metadata": {
    "collapsed": false
   },
   "outputs": [
    {
     "data": {
      "text/plain": [
       "6"
      ]
     },
     "execution_count": 14,
     "metadata": {},
     "output_type": "execute_result"
    }
   ],
   "source": [
    "len(sounds_dict.all_shelves)"
   ]
  },
  {
   "cell_type": "code",
   "execution_count": 15,
   "metadata": {
    "collapsed": false
   },
   "outputs": [
    {
     "data": {
      "text/plain": [
       "{'YOU', 'YOu', 'You', 'you'}"
      ]
     },
     "execution_count": 15,
     "metadata": {},
     "output_type": "execute_result"
    }
   ],
   "source": [
    "sounds_dict['ju:']"
   ]
  },
  {
   "cell_type": "code",
   "execution_count": 16,
   "metadata": {
    "collapsed": false
   },
   "outputs": [],
   "source": [
    "zero_keys = list(sounds_dict.all_shelves[0].keys())"
   ]
  },
  {
   "cell_type": "code",
   "execution_count": 17,
   "metadata": {
    "collapsed": false
   },
   "outputs": [
    {
     "data": {
      "text/plain": [
       "\"a#k'adEmi; a#w'O@dz\""
      ]
     },
     "execution_count": 17,
     "metadata": {},
     "output_type": "execute_result"
    }
   ],
   "source": [
    "zero_keys[0]"
   ]
  },
  {
   "cell_type": "code",
   "execution_count": null,
   "metadata": {
    "collapsed": true
   },
   "outputs": [],
   "source": []
  }
 ],
 "metadata": {
  "anaconda-cloud": {},
  "kernelspec": {
   "display_name": "Python (python3.6)",
   "language": "python",
   "name": "myenv"
  },
  "language_info": {
   "codemirror_mode": {
    "name": "ipython",
    "version": 3
   },
   "file_extension": ".py",
   "mimetype": "text/x-python",
   "name": "python",
   "nbconvert_exporter": "python",
   "pygments_lexer": "ipython3",
   "version": "3.6.1"
  }
 },
 "nbformat": 4,
 "nbformat_minor": 1
}
